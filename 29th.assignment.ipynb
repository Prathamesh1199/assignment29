{
 "cells": [
  {
   "cell_type": "markdown",
   "id": "d5bbb94d-734b-48f6-9a35-fba7d8d7a66a",
   "metadata": {},
   "source": [
    "1: 'guido van rossum' developed python programming langauge"
   ]
  },
  {
   "cell_type": "code",
   "execution_count": null,
   "id": "7281e230-9c67-4305-a580-30f85ff85927",
   "metadata": {},
   "outputs": [],
   "source": [
    "2: Python supports multiple programming paradigms.\n",
    "It includes object-oriented, procedural, functional, and aspect-oriented programming styles."
   ]
  },
  {
   "cell_type": "code",
   "execution_count": null,
   "id": "6329a00d-f950-4658-b3ea-a69eea72c3b7",
   "metadata": {},
   "outputs": [],
   "source": [
    "3: Yes, Python is case sensitive when dealing with identifiers."
   ]
  },
  {
   "cell_type": "code",
   "execution_count": null,
   "id": "2ffdbaeb-97e3-4462-b876-9a4fb46ec37c",
   "metadata": {},
   "outputs": [],
   "source": [
    "4: correct extension = \".py\""
   ]
  },
  {
   "cell_type": "code",
   "execution_count": null,
   "id": "2d8baa13-08de-447f-b16e-1295c090c250",
   "metadata": {},
   "outputs": [],
   "source": [
    "5: it is interpreted."
   ]
  },
  {
   "cell_type": "code",
   "execution_count": null,
   "id": "24b8cd5b-578a-4ba2-ac00-5afeb00c4623",
   "metadata": {},
   "outputs": [],
   "source": [
    "6: 1. Functions defined using the \"def\" keyword\n",
    "   2. Classes defined using the \"class\" keyword\n",
    "    3.Conditional blocks using \"if\" and \"else\" statements\n",
    "    4.Loops using \"for\" and \"while\" statements.."
   ]
  },
  {
   "cell_type": "code",
   "execution_count": null,
   "id": "45c21857-fc3e-4f4c-b34b-7f5a613e9092",
   "metadata": {},
   "outputs": [],
   "source": [
    "7: the '#' symbol is used"
   ]
  },
  {
   "cell_type": "code",
   "execution_count": null,
   "id": "7cb9b982-f25f-4aa7-8d89-5c300171f0da",
   "metadata": {},
   "outputs": [],
   "source": [
    "8: sys.version , sys.version_info , platform.python_version()"
   ]
  },
  {
   "cell_type": "code",
   "execution_count": null,
   "id": "ffd28cf5-609b-4e9e-baa6-be0e5498883f",
   "metadata": {},
   "outputs": [],
   "source": [
    "9: 'lambda construct'."
   ]
  },
  {
   "cell_type": "code",
   "execution_count": null,
   "id": "d103c9fc-2ff8-4e08-9b0d-7f58bb75d8a2",
   "metadata": {},
   "outputs": [],
   "source": [
    "10: 'pip' stands for \"pip installs package\", it is a package manager which makes easier to install, libraries and manage packages"
   ]
  },
  {
   "cell_type": "code",
   "execution_count": null,
   "id": "b34e658a-52bc-44ba-99fe-dd8a62773b0d",
   "metadata": {},
   "outputs": [],
   "source": [
    "11: print(), int(), float(), str() ,len(),range(), type()"
   ]
  },
  {
   "cell_type": "code",
   "execution_count": null,
   "id": "f203b511-4939-46d9-acc6-5d7fa7ffe595",
   "metadata": {},
   "outputs": [],
   "source": [
    "12: in python, there is no specified limit on the maximum length of an identifier."
   ]
  },
  {
   "cell_type": "code",
   "execution_count": null,
   "id": "b8f6b45d-1380-49fb-b7dd-c53b67d7ee06",
   "metadata": {},
   "outputs": [],
   "source": [
    "13: 1. easy to learn\n",
    "    2.Can be used for a variety of tasks such as web development,\n",
    "    data analysis, artificial intelligence, etc.\n",
    "    3.Can work well with other programming languages.\n",
    "    4.Good for development and testing."
   ]
  },
  {
   "cell_type": "code",
   "execution_count": null,
   "id": "eb7ae7ee-cd4c-489f-a66b-5a0e34d938b7",
   "metadata": {},
   "outputs": [],
   "source": [
    "14: Memory in Python is managed automatically by\n",
    "the Python interpreter using a system called a \"garbage collector\"\n",
    "  "
   ]
  },
  {
   "cell_type": "code",
   "execution_count": null,
   "id": "82d5f8c8-093c-4aee-b9dd-742219fc27df",
   "metadata": {},
   "outputs": [],
   "source": [
    "15: first we have to download latest versiom of python from official site,\n",
    "then we need to run python installation file and it will display some instructions, we need to follow those.\n",
    "  we can add or modify directories in 'python' path variable by modifying the environment variable OR by using 'sys' module in your python code\n",
    " \n",
    "Example: import sys\n",
    "sys.path.append(\"/path/to/directory\")..."
   ]
  },
  {
   "cell_type": "code",
   "execution_count": null,
   "id": "9d7c8ede-808b-4320-afed-473f114b67fa",
   "metadata": {},
   "outputs": [],
   "source": [
    "16: yes, indentation is required in python. it is used to define code blocks,\n",
    "such as the bodies of functions,loops,and conditional statements. \n",
    "this makes the code to read and understand 'easily'."
   ]
  }
 ],
 "metadata": {
  "kernelspec": {
   "display_name": "Python 3 (ipykernel)",
   "language": "python",
   "name": "python3"
  },
  "language_info": {
   "codemirror_mode": {
    "name": "ipython",
    "version": 3
   },
   "file_extension": ".py",
   "mimetype": "text/x-python",
   "name": "python",
   "nbconvert_exporter": "python",
   "pygments_lexer": "ipython3",
   "version": "3.10.8"
  }
 },
 "nbformat": 4,
 "nbformat_minor": 5
}
